{
 "cells": [
  {
   "cell_type": "code",
   "execution_count": 6,
   "metadata": {
    "collapsed": false
   },
   "outputs": [],
   "source": [
    "LEAK_TRAIN_PATH = \"features/leak_train\"\n",
    "LEAK_TEST_PATH = \"features/leak_test\"\n",
    "import pandas as pd\n",
    "leak_train = pd.read_csv(LEAK_TRAIN_PATH)\n",
    "leak_test = pd.read_csv(LEAK_TEST_PATH)"
   ]
  },
  {
   "cell_type": "code",
   "execution_count": 7,
   "metadata": {
    "collapsed": false
   },
   "outputs": [],
   "source": [
    "del leak_train['0']"
   ]
  },
  {
   "cell_type": "code",
   "execution_count": 8,
   "metadata": {
    "collapsed": false
   },
   "outputs": [
    {
     "name": "stdout",
     "output_type": "stream",
     "text": [
      "(44,)\n",
      "(44,)\n"
     ]
    }
   ],
   "source": [
    "print(leak_train.columns.shape)\n",
    "print(leak_test.columns.shape)"
   ]
  },
  {
   "cell_type": "code",
   "execution_count": 9,
   "metadata": {
    "collapsed": false
   },
   "outputs": [
    {
     "data": {
      "text/plain": [
       "array([[  7.27272727e-01,   7.96023977e-01,   7.72164362e-01, ...,\n",
       "          0.00000000e+00,   1.00000000e+00,   2.00000000e+00],\n",
       "       [  3.07692308e-01,   3.59200460e-01,   3.61757530e-01, ...,\n",
       "          0.00000000e+00,   8.00000000e+00,   3.00000000e+00],\n",
       "       [  3.63636364e-01,   3.02555254e-01,   3.55191112e-01, ...,\n",
       "          0.00000000e+00,   2.00000000e+00,   1.00000000e+00],\n",
       "       ..., \n",
       "       [  5.00000000e-01,   6.02844572e-01,   7.12010543e-01, ...,\n",
       "          0.00000000e+00,   1.00000000e+00,   1.00000000e+00],\n",
       "       [  0.00000000e+00,   5.16790755e-03,   0.00000000e+00, ...,\n",
       "          0.00000000e+00,   1.00000000e+00,   1.00000000e+00],\n",
       "       [  1.00000000e+00,   9.32657571e-01,   1.00000000e+00, ...,\n",
       "          0.00000000e+00,   1.00000000e+00,   1.00000000e+00]])"
      ]
     },
     "execution_count": 9,
     "metadata": {},
     "output_type": "execute_result"
    }
   ],
   "source": [
    "leak_train.as_matrix()"
   ]
  },
  {
   "cell_type": "code",
   "execution_count": null,
   "metadata": {
    "collapsed": true
   },
   "outputs": [],
   "source": []
  }
 ],
 "metadata": {
  "kernelspec": {
   "display_name": "Python [default]",
   "language": "python",
   "name": "python3"
  },
  "language_info": {
   "codemirror_mode": {
    "name": "ipython",
    "version": 3
   },
   "file_extension": ".py",
   "mimetype": "text/x-python",
   "name": "python",
   "nbconvert_exporter": "python",
   "pygments_lexer": "ipython3",
   "version": "3.5.2"
  }
 },
 "nbformat": 4,
 "nbformat_minor": 1
}
